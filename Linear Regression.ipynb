{
 "cells": [
  {
   "cell_type": "markdown",
   "id": "surface-burning",
   "metadata": {},
   "source": [
    "# Linear Regression"
   ]
  },
  {
   "cell_type": "code",
   "execution_count": 1,
   "id": "foster-works",
   "metadata": {},
   "outputs": [],
   "source": [
    "# Importing the NumPy library, commonly used for numerical operations on arrays\n",
    "import numpy as np\n",
    "\n",
    "# Importing the train_test_split function from scikit-learn to split data into training and testing sets\n",
    "from sklearn.model_selection import train_test_split\n",
    "\n",
    "# Importing the datasets module from scikit-learn, which contains various example datasets\n",
    "from sklearn import datasets\n",
    "\n",
    "# Importing the Matplotlib library's pyplot module, commonly used for plotting and visualizing data\n",
    "import matplotlib.pyplot as plt"
   ]
  },
  {
   "cell_type": "code",
   "execution_count": 2,
   "id": "attempted-japan",
   "metadata": {},
   "outputs": [
    {
     "name": "stdout",
     "output_type": "stream",
     "text": [
      "(100, 1) (100,)\n"
     ]
    }
   ],
   "source": [
    "# Generating a synthetic regression dataset with 100 samples and 1 feature using make_regression from scikit-learn\n",
    "# - n_samples=100: Specifies the number of samples\n",
    "# - n_features=1: Specifies the number of features (independent variables)\n",
    "# - noise=20: Adds Gaussian noise to the output to simulate real-world data\n",
    "# - random_state=4: Sets a seed for reproducibility of the dataset\n",
    "X, y = datasets.make_regression(n_samples=100, n_features=1, noise=20, random_state=4)\n",
    "\n",
    "# Printing the shape of the feature matrix X and the target vector y\n",
    "# X.shape should output (100, 1) indicating 100 samples with 1 feature\n",
    "# y.shape should output (100,) indicating 100 target values\n",
    "print(X.shape, y.shape)"
   ]
  },
  {
   "cell_type": "code",
   "execution_count": 3,
   "id": "alternate-executive",
   "metadata": {},
   "outputs": [
    {
     "data": {
      "text/plain": [
       "<matplotlib.collections.PathCollection at 0x7f398de82518>"
      ]
     },
     "execution_count": 3,
     "metadata": {},
     "output_type": "execute_result"
    },
    {
     "data": {
      "image/png": "[encoded data removed]",
      "text/plain": [
       "<Figure size 576x360 with 1 Axes>"
      ]
     },
     "metadata": {
      "needs_background": "light"
     },
     "output_type": "display_data"
    }
   ],
   "source": [
    "# Creating a new figure for plotting with a specified size of 8x5 inches\n",
    "fig = plt.figure(figsize=(8, 5))\n",
    "\n",
    "# Plotting a scatter plot using Matplotlib\n",
    "# - X[:,0]: Selects the first (and only) feature from the dataset X for the x-axis\n",
    "# - y: The target values on the y-axis\n",
    "# - color='b': Sets the color of the scatter plot points to blue\n",
    "# - marker='o': Uses a circle ('o') marker for each point\n",
    "# - s=30: Sets the size of the markers to 30\n",
    "plt.scatter(X[:,0], y, color='b', marker='o', s=30)"
   ]
  },
  {
   "cell_type": "markdown",
   "id": "residential-depression",
   "metadata": {},
   "source": [
    "## Model Using Sklearn Library"
   ]
  },
  {
   "cell_type": "code",
   "execution_count": null,
   "id": "exotic-vacuum",
   "metadata": {},
   "outputs": [],
   "source": []
  },
  {
   "cell_type": "markdown",
   "id": "bright-claim",
   "metadata": {},
   "source": [
    "### Hypothesis: $h(x) = wx + b$ \n",
    "Our target is to minimize the error between the predicted value $h(x)$ and the actual value $y$. <br> \n",
    "### $\\binom{minimize}{w, b} = (h(x) - y))^2$ <br>\n",
    "\n",
    "This formula is valid for a single feature (input variable), so we have one weight $w$ and one bias $b$. However, in the case of multiple features, $w$ becomes a vector of weights, each corresponding to a different feature.\n",
    "### The cost function $J(w,b) = \\frac{1}{2n}\\sum_{i=1}^{n}(h(x_i)-y_i)^{2}$\n",
    "where:\n",
    "- $n$ is the number of training examples.\n",
    "- $h(x_i)$ is the predicted value for the $i$-th training example.\n",
    "- $y_i$ is the actual value for the $i$-th training example.\n",
    "\n",
    "\n",
    "### Gradient discent\n",
    "![](gradient-descent.png)\n",
    "Gradient discent to minimize the cost function $J(w, b)$. To do that, we are going to repeateadly update the $w$ and $b$ until convergence using the following formula:\n",
    "### $dw = \\frac{1}{n}\\sum_{i=1}^{n} (h(x_i) - y_i)\\cdot x_i$\n",
    "### $db = \\frac{1}{n}\\sum_{i=1}^{n} (h(x_i) - y_i)$\n",
    "### Update rule\n",
    "The weights $w$ and bias $b$ are updated using the following rules:\n",
    "### $w = w - \\alpha * dw$\n",
    "### $b = b - \\alpha * db$"
   ]
  },
  {
   "cell_type": "markdown",
   "id": "flying-introduction",
   "metadata": {},
   "source": [
    "## Model From Scratch"
   ]
  },
  {
   "cell_type": "code",
   "execution_count": 4,
   "id": "dated-injury",
   "metadata": {},
   "outputs": [],
   "source": [
    "class LinearRegression:\n",
    "    def __init__(self, lr=0.001, n_iters=1000):\n",
    "        # Initialize the learning rate and the number of iterations\n",
    "        self.lr = lr\n",
    "        self.n_iters = n_iters\n",
    "        \n",
    "        # Initialize weights and bias as None; they will be set in the fit method\n",
    "        self.weights = None\n",
    "        self.bias = None\n",
    "        \n",
    "    def fit(self, X, y):\n",
    "        # Get the number of samples and features from the input data\n",
    "        n_samples, n_features = X.shape\n",
    "        \n",
    "        # Initialize weights as a zero array with the same length as the number of features\n",
    "        # Initialize bias as 0\n",
    "        self.weights = np.zeros(n_features)\n",
    "        self.bias = 0\n",
    "        \n",
    "        # Perform gradient descent for the specified number of iterations\n",
    "        for _ in range(self.n_iters):\n",
    "            # Calculate the linear hypothesis (predictions): hx = X * weights + bias\n",
    "            hx = np.dot(X, self.weights) + self.bias\n",
    "            \n",
    "            # Compute the gradients for weights and bias\n",
    "            dw = (1/n_samples) * np.dot(X.T, (hx - y))\n",
    "            db = (1/n_samples) * np.sum(hx - y)\n",
    "            \n",
    "            # Update weights and bias using gradient descent\n",
    "            # temp1 = self.weights - self.lr * dw\n",
    "            # temp2 = self.bias - self.lr * db\n",
    "            # self.weights = temp1\n",
    "            # self.bias = temp2\n",
    "            \n",
    "            # Alternatively, the weights and bias can be updated directly as follows:\n",
    "            self.weights -= self.lr * dw\n",
    "            self.bias -= self.lr * db\n",
    "            \n",
    "    def predict(self, X):\n",
    "        # Make predictions using the learned weights and bias\n",
    "        hx = np.dot(X, self.weights) + self.bias\n",
    "        return hx            "
   ]
  },
  {
   "cell_type": "markdown",
   "id": "current-earth",
   "metadata": {},
   "source": [
    "## Model Training"
   ]
  },
  {
   "cell_type": "code",
   "execution_count": 5,
   "id": "continental-parliament",
   "metadata": {},
   "outputs": [],
   "source": [
    "# Split the dataset into training and testing sets\n",
    "# X_train and y_train are the features and target variable for the training set\n",
    "# X_test and y_test are the features and target variable for the testing set\n",
    "# test_size=0.2 means 20% of the data will be used for testing, and 80% for training\n",
    "# random_state=1234 ensures reproducibility of the split\n",
    "X_train, X_test, y_train, y_test = train_test_split(X, y, test_size = 0.2, random_state=1234)\n",
    "\n",
    "# Create an instance of the LinearRegression class with a learning rate of 0.01\n",
    "regressor = LinearRegression(lr=0.01)\n",
    "\n",
    "# Train the linear regression model using the training data (X_train, y_train)\n",
    "regressor.fit(X_train, y_train)"
   ]
  },
  {
   "cell_type": "markdown",
   "id": "gross-spelling",
   "metadata": {},
   "source": [
    "### $\\text{mse} = \\frac{1}{n}\\sum_{i=1}^{n}(y_i-\\hat{y}_i)^2$"
   ]
  },
  {
   "cell_type": "code",
   "execution_count": 6,
   "id": "familiar-cowboy",
   "metadata": {},
   "outputs": [],
   "source": [
    "def mse(y_true, y_predicted):\n",
    "    # Calculate the Mean Squared Error (MSE)\n",
    "    # The difference between the true values (y_true) and the predicted values (y_predicted) is squared\n",
    "    # The mean of these squared differences is then returned as the MSE\n",
    "    return np.mean((y_true - y_predicted)**2)"
   ]
  },
  {
   "cell_type": "code",
   "execution_count": 7,
   "id": "choice-rehabilitation",
   "metadata": {},
   "outputs": [],
   "source": [
    "# Use the trained linear regression model to make predictions on the test data\n",
    "# The predict method applies the learned weights and bias to the features in X_test\n",
    "predicted = regressor.predict(X_test)"
   ]
  },
  {
   "cell_type": "code",
   "execution_count": 8,
   "id": "analyzed-tomorrow",
   "metadata": {},
   "outputs": [
    {
     "name": "stdout",
     "output_type": "stream",
     "text": [
      "305.7719958301902\n"
     ]
    }
   ],
   "source": [
    "# Calculate the Mean Squared Error (MSE) between the actual values (y_test) and the predicted values (predicted)\n",
    "mse_value = mse(y_test, predicted)\n",
    "\n",
    "# Print the calculated MSE value\n",
    "print(mse_value)"
   ]
  },
  {
   "cell_type": "markdown",
   "id": "concerned-resort",
   "metadata": {},
   "source": [
    "## Plot The Decision Line"
   ]
  },
  {
   "cell_type": "code",
   "execution_count": 9,
   "id": "minute-brand",
   "metadata": {},
   "outputs": [
    {
     "data": {
      "image/png": "[encoded data removed]",
      "text/plain": [
       "<Figure size 576x432 with 1 Axes>"
      ]
     },
     "metadata": {
      "needs_background": "light"
     },
     "output_type": "display_data"
    }
   ],
   "source": [
    "# Create a new figure for plotting with a specified size (width=8, height=6)\n",
    "fig = plt.figure(figsize=(8,6))\n",
    "\n",
    "# Use the trained model to make predictions for the entire dataset X\n",
    "# This is used to plot the regression line\n",
    "y_pred_line = regressor.predict(X)\n",
    "\n",
    "# Plot the training data points\n",
    "# Scatter plot for training data (X_train, y_train) with blue color and marker size 30\n",
    "plt.scatter(X_train, y_train, color='blue', s=30, label='Training data')\n",
    "\n",
    "# Plot the testing data points\n",
    "# Scatter plot for testing data (X_test, y_test) with green color and marker size 30\n",
    "plt.scatter(X_test, y_test, color='green', s=30, label='Test data')\n",
    "\n",
    "# Plot the regression line\n",
    "# Line plot using the entire dataset X and predictions y_pred_line with red color, linewidth 2\n",
    "plt.plot(X, y_pred_line, color='red', linewidth=2, label='Prediction')\n",
    "\n",
    "\n",
    "# Add labels, title, and legend for clarity\n",
    "plt.xlabel('Feature')\n",
    "plt.ylabel('Target')\n",
    "plt.title('Linear Regression Fit')\n",
    "plt.legend()\n",
    "plt.grid(True)\n",
    "\n",
    "# Display the plot\n",
    "plt.show()"
   ]
  }
 ],
 "metadata": {
  "kernelspec": {
   "display_name": "Python 3",
   "language": "python",
   "name": "python3"
  },
  "language_info": {
   "codemirror_mode": {
    "name": "ipython",
    "version": 3
   },
   "file_extension": ".py",
   "mimetype": "text/x-python",
   "name": "python",
   "nbconvert_exporter": "python",
   "pygments_lexer": "ipython3",
   "version": "3.6.9"
  }
 },
 "nbformat": 4,
 "nbformat_minor": 5
}
